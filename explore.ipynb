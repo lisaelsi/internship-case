{
 "cells": [
  {
   "cell_type": "code",
   "execution_count": 1,
   "metadata": {},
   "outputs": [],
   "source": [
    "import pandas as pd\n",
    "import numpy as np\n",
    "import matplotlib.pyplot as plt"
   ]
  },
  {
   "attachments": {},
   "cell_type": "markdown",
   "metadata": {},
   "source": [
    "We have the following information in the files:\n",
    "\n",
    "**Demographics**\\\n",
    "All customer ids are unique, so we know that there are 10366 customers in the database.\\\n",
    "For each customer, shows \n",
    "- gender (female, male or other)\n",
    "- age group ('18-24', '25-34', '35-44', '45-54' or '55-65')\n",
    "- country (Sweden, Norway, Finland or Denmark). \n",
    "\n",
    "**Referral**\\\n",
    "For each customer, shows \n",
    "- referall type (facebook, organic search, paid search, google ads, tv, display or bing), can also be blank\n",
    "\n",
    "**Transactions**\\\n",
    "Shows all transaction for each of the customers. A data point\n",
    "- customer id\n",
    "- transaction type (initial, upgrade, reduction or churn)\n",
    "- transaction date (can be first of each month between 2020-01-01 and 2022-12-01)\n",
    "- subscription type (basic, pro or max)\n",
    "\n",
    "**Subscription prices**\\\n",
    "Shows the price of each of the three subscription types (basic, pro and max) for the years 2020, 2021 and 2022. "
   ]
  },
  {
   "attachments": {},
   "cell_type": "markdown",
   "metadata": {},
   "source": [
    "## **Recommendation to the client**\n",
    "\n",
    "The data is very interesting and there are several ways it can be used to perform analyses to drive business decisions. Some examples of things that could be examined are:\n",
    "- Looking at during which months customers generally upgrade or downgrade their subscription.\n",
    "- Looking for correlation between price increases and customers quitting their subscriptions.\n",
    "- Checking which subscription types are common in which country.\n",
    "- Checking which subscription types are common in different age groups and genders. \n",
    "- Investigating how the type of referral relates to the type of subscription a customer has.  \n",
    "- Calculating total revenue. \n",
    "- Predicting how how revenue would be affected by changes is pricing.\n",
    "- Investigating which types of subscriptions bring in most income. \n",
    "- Finding which referral types are successful and thus worth investing in further. \n",
    "\n",
    "These are only some of the cases which can be analyzed through this data. Visualization could also be used to get a better grasp multiple aspects of data. It could be used to illustrate the demographics, but also how interest for different subscription types have looked over time. "
   ]
  },
  {
   "attachments": {},
   "cell_type": "markdown",
   "metadata": {},
   "source": [
    "***Below is code for data exploration.***"
   ]
  },
  {
   "attachments": {},
   "cell_type": "markdown",
   "metadata": {},
   "source": [
    "### **Demographic data**"
   ]
  },
  {
   "cell_type": "code",
   "execution_count": 2,
   "metadata": {},
   "outputs": [
    {
     "name": "stdout",
     "output_type": "stream",
     "text": [
      "Name of columns in data: ['cust_id', 'customer_gender', 'age_group', 'customer_country']\n",
      "Number of rows in data: 10366\n"
     ]
    }
   ],
   "source": [
    "demographics = pd.read_csv('data/demographics.csv')\n",
    "\n",
    "# Get basic information about demographics dataframe\n",
    "print(f'Name of columns in data: {list(demographics.columns)}')\n",
    "print(f'Number of rows in data: {len(demographics.index)}')"
   ]
  },
  {
   "cell_type": "code",
   "execution_count": 3,
   "metadata": {},
   "outputs": [
    {
     "name": "stdout",
     "output_type": "stream",
     "text": [
      "Data does not contain NaN values.\n",
      "All ids are unique.\n"
     ]
    }
   ],
   "source": [
    "# Check if dataframe contains nan values\n",
    "if demographics.isnull().values.any():\n",
    "    print('Data contains NaN values.')\n",
    "else: \n",
    "    print('Data does not contain NaN values.')\n",
    "\n",
    "# -- Handling customer ids -- \n",
    "# Remove '_cust' so that all ids have the same format\n",
    "demographics['cust_id']= demographics['cust_id'].str.replace('_cust', '')\n",
    "\n",
    "# Check that all ids are unique (should be same as length of dataframe)\n",
    "ids = demographics.cust_id.unique()\n",
    "if len(ids) == len(demographics.index):\n",
    "    print('All ids are unique.')"
   ]
  },
  {
   "cell_type": "code",
   "execution_count": 4,
   "metadata": {},
   "outputs": [
    {
     "name": "stdout",
     "output_type": "stream",
     "text": [
      "Age groups: ['18-24', '25-34', '35-44', '45-54', '55-65']\n"
     ]
    },
    {
     "data": {
      "image/png": "[encoded data removed]",
      "text/plain": [
       "<Figure size 432x288 with 1 Axes>"
      ]
     },
     "metadata": {
      "needs_background": "light"
     },
     "output_type": "display_data"
    }
   ],
   "source": [
    "# -- Handling age groups -- \n",
    "# Display all age groups\n",
    "age_groups = sorted(demographics.age_group.unique())\n",
    "print(f'Age groups: {age_groups}')\n",
    "demographics['age_group'].value_counts()\n",
    "\n",
    "bins = np.arange(0, 6) - 0.5\n",
    "width = 0.8\n",
    "\n",
    "plt.hist(demographics['age_group'], bins=bins, width=width)\n",
    "plt.xticks(np.arange(5), np.unique(demographics['age_group']), rotation=90)\n",
    "plt.show()\n"
   ]
  },
  {
   "cell_type": "code",
   "execution_count": 5,
   "metadata": {},
   "outputs": [
    {
     "name": "stdout",
     "output_type": "stream",
     "text": [
      "Genders in original data: ['Female', 'Male', 'Other', 'f', 'm']\n"
     ]
    },
    {
     "data": {
      "image/png": "[encoded data removed]",
      "text/plain": [
       "<Figure size 432x288 with 1 Axes>"
      ]
     },
     "metadata": {
      "needs_background": "light"
     },
     "output_type": "display_data"
    },
    {
     "data": {
      "text/plain": [
       "Other     4460\n",
       "Female    3064\n",
       "Male      2842\n",
       "Name: customer_gender, dtype: int64"
      ]
     },
     "execution_count": 5,
     "metadata": {},
     "output_type": "execute_result"
    }
   ],
   "source": [
    "# -- Handling genders -- \n",
    "genders = sorted(demographics.customer_gender.unique())\n",
    "print(f'Genders in original data: {genders}')\n",
    "\n",
    "# Replace 'f' with 'Female' and 'm' with 'Male'\n",
    "replacements = {'f': 'Female', 'm': 'Male'}\n",
    "demographics['customer_gender'] = demographics['customer_gender'].replace(to_replace=replacements)\n",
    "\n",
    "bins = np.arange(0, 4) - 0.5\n",
    "width = 0.8\n",
    "\n",
    "plt.hist(demographics['customer_gender'], bins=bins, width=width)\n",
    "plt.xticks(np.arange(3), np.unique(demographics['customer_gender']), rotation=90)\n",
    "plt.show()\n",
    "\n",
    "demographics['customer_gender'].value_counts()\n"
   ]
  },
  {
   "cell_type": "code",
   "execution_count": 6,
   "metadata": {},
   "outputs": [
    {
     "name": "stdout",
     "output_type": "stream",
     "text": [
      "Countries in original data: ['Denmark' 'Norway' 'Sweden' 'Finland' 'Norge' 'Sverige']\n"
     ]
    },
    {
     "data": {
      "image/png": "[encoded data removed]",
      "text/plain": [
       "<Figure size 432x288 with 1 Axes>"
      ]
     },
     "metadata": {
      "needs_background": "light"
     },
     "output_type": "display_data"
    },
    {
     "data": {
      "text/plain": [
       "Sweden     4144\n",
       "Denmark    2153\n",
       "Norway     2094\n",
       "Finland    1975\n",
       "Name: customer_country, dtype: int64"
      ]
     },
     "execution_count": 6,
     "metadata": {},
     "output_type": "execute_result"
    }
   ],
   "source": [
    "# -- Handling countries -- \n",
    "# Show all countries\n",
    "countries = demographics.customer_country.unique()\n",
    "print(f'Countries in original data: {countries}')\n",
    "\n",
    "# Replace 'Sverige' with 'Sweden' and 'Norge' with 'Norway'\n",
    "replacements = {'Sverige': 'Sweden', 'Norge': 'Norway'}\n",
    "demographics['customer_country'] = demographics['customer_country'].replace(to_replace=replacements)\n",
    "\n",
    "demographics['customer_country'].value_counts()\n",
    "\n",
    "# Sort unique country values in alphabetical order\n",
    "unique_countries = demographics['customer_country'].unique()\n",
    "\n",
    "bins = np.arange(0, len(unique_countries) + 1) - 0.5\n",
    "width = 0.8\n",
    "\n",
    "plt.hist(demographics['customer_country'], bins=bins, width=width)\n",
    "plt.xticks(np.arange(len(unique_countries)), demographics['customer_country'].unique(), rotation=90)\n",
    "plt.show()\n",
    "\n",
    "demographics['customer_country'].value_counts()\n"
   ]
  },
  {
   "attachments": {},
   "cell_type": "markdown",
   "metadata": {},
   "source": [
    "### **Referral data**"
   ]
  },
  {
   "cell_type": "code",
   "execution_count": 7,
   "metadata": {},
   "outputs": [
    {
     "name": "stdout",
     "output_type": "stream",
     "text": [
      "Number of rows in dataframe: 19141\n",
      "Number of unique ids in list: 10366\n",
      "Data contains NaN values.\n"
     ]
    },
    {
     "data": {
      "image/png": "[encoded data removed]",
      "text/plain": [
       "<Figure size 432x288 with 1 Axes>"
      ]
     },
     "metadata": {
      "needs_background": "light"
     },
     "output_type": "display_data"
    },
    {
     "data": {
      "text/plain": [
       "Missing referral type    4398\n",
       "facebook                 1689\n",
       "Organic Search           1248\n",
       "Paid Search              1058\n",
       "Google Ads               1033\n",
       "TV                        388\n",
       "Display                   340\n",
       "Bing                      212\n",
       "Name: referral_type, dtype: int64"
      ]
     },
     "execution_count": 7,
     "metadata": {},
     "output_type": "execute_result"
    }
   ],
   "source": [
    "referral = pd.read_csv('data/referral.csv')\n",
    "\n",
    "# Rename id column so it's the same across all dataframes\n",
    "referral = referral.rename(columns={\"id\": \"cust_id\"})\n",
    "\n",
    "# Get basic information about demographics dataframe\n",
    "print(f'Number of rows in dataframe: {len(referral.index)}')\n",
    "\n",
    "# Check that all ids are unique (should be same as length of dataframe)\n",
    "ids = referral.cust_id.unique()\n",
    "\n",
    "print(f'Number of unique ids in list: {len(ids)}')\n",
    "if len(ids) == len(referral.index):\n",
    "    print('All ids are unique.')\n",
    "\n",
    "# Remove '_ref' so that all ids have the same format\n",
    "referral['cust_id']= referral['cust_id'].str.replace('_ref', '')\n",
    "\n",
    "# Check if dataframe contains nan values\n",
    "if referral.isnull().values.any():\n",
    "    print('Data contains NaN values.')\n",
    "else: \n",
    "    print('Data does not contain NaN values.')\n",
    "\n",
    "# Removes duplicate rows\n",
    "referral = referral.drop_duplicates()\n",
    "\n",
    "referral['referral_type'] = referral['referral_type'].fillna('Missing referral type')\n",
    "\n",
    "referral['referral_type'].value_counts()\n",
    "\n",
    "bins = np.arange(0, 9) - 0.5\n",
    "width = 0.8\n",
    "\n",
    "plt.hist(referral['referral_type'], bins=bins, width=width)\n",
    "plt.xticks(np.arange(8), referral['referral_type'].unique(), rotation=90)\n",
    "plt.show()\n",
    "\n",
    "referral['referral_type'].value_counts()\n"
   ]
  },
  {
   "attachments": {},
   "cell_type": "markdown",
   "metadata": {},
   "source": [
    "### **Transaction data**"
   ]
  },
  {
   "cell_type": "code",
   "execution_count": 8,
   "metadata": {},
   "outputs": [
    {
     "name": "stdout",
     "output_type": "stream",
     "text": [
      "Name of columns in dataframe: ['cust_id', 'transaction_type', 'transaction_date', 'subscription_type']\n",
      "Number of rows in dataframe: 19141\n",
      "Transaction types in original data: ['initial', 'UPGRADE', ' ', 'REDUCTION', 'CHURN']\n",
      "Subscription types in original data: ['BASIC', 'MAX', 'PRO', 'pro', 'max']\n"
     ]
    }
   ],
   "source": [
    "dtypes = {'cust_id': 'object', 'transaction_type': 'str', 'transaction_date': 'object', 'subscription_type': 'str'}\n",
    "transactions = pd.read_csv('data/transactions.csv', dtype=dtypes, parse_dates=['transaction_date'])\n",
    "\n",
    "# Get basic information about transactions dataframe\n",
    "print(f'Name of columns in dataframe: {list(transactions.columns)}')\n",
    "print(f'Number of rows in dataframe: {len(transactions.index)}')\n",
    "print(f'Transaction types in original data: {list(transactions.transaction_type.unique())}')\n",
    "print(f'Subscription types in original data: {list(transactions.subscription_type.unique())}')\n"
   ]
  },
  {
   "cell_type": "code",
   "execution_count": 9,
   "metadata": {},
   "outputs": [
    {
     "name": "stdout",
     "output_type": "stream",
     "text": [
      "Number of unique ids in list: 10366\n",
      "\n",
      "Number of rows after duplicates removed: 19127.\n",
      "Number of customers who has ended subscriptions: 2497.\n",
      "47 transactions are missing transaction type.\n"
     ]
    }
   ],
   "source": [
    "# Check that all ids are unique (should be same as length of dataframe)\n",
    "ids = transactions.cust_id.unique()\n",
    "print(f'Number of unique ids in list: {len(ids)}\\n')\n",
    "\n",
    "# Replace 'pro' with 'PRO' and 'max' with 'MAX'\n",
    "replacements = {'pro': 'PRO', 'max': 'MAX'}\n",
    "transactions['subscription_type'] = transactions['subscription_type'].replace(to_replace=replacements)\n",
    "\n",
    "# Removes duplicate rows\n",
    "transactions = transactions.drop_duplicates()\n",
    "print(f'Number of rows after duplicates removed: {len(transactions.index)}.')\n",
    "\n",
    "churned = transactions.loc[transactions['transaction_type'] == 'CHURN']\n",
    "print(f'Number of customers who has ended subscriptions: {len(churned.index)}.')\n",
    "\n",
    "missing_transaction = transactions.loc[transactions['transaction_type'] == ' ']\n",
    "print(f'{len(missing_transaction.index)} transactions are missing transaction type.')\n",
    "\n",
    "# Replace missing values with nan\n",
    "transactions = transactions.replace(r'^\\s*$', np.nan, regex=True)"
   ]
  },
  {
   "cell_type": "code",
   "execution_count": 10,
   "metadata": {},
   "outputs": [
    {
     "data": {
      "text/plain": [
       "initial      10366\n",
       "UPGRADE       3692\n",
       "REDUCTION     2525\n",
       "CHURN         2497\n",
       "Name: transaction_type, dtype: int64"
      ]
     },
     "execution_count": 10,
     "metadata": {},
     "output_type": "execute_result"
    }
   ],
   "source": [
    "transactions['transaction_type'].value_counts()"
   ]
  },
  {
   "cell_type": "code",
   "execution_count": 11,
   "metadata": {},
   "outputs": [
    {
     "data": {
      "text/plain": [
       "BASIC    7053\n",
       "PRO      6526\n",
       "MAX      5548\n",
       "Name: subscription_type, dtype: int64"
      ]
     },
     "execution_count": 11,
     "metadata": {},
     "output_type": "execute_result"
    }
   ],
   "source": [
    "transactions['subscription_type'].value_counts()"
   ]
  },
  {
   "attachments": {},
   "cell_type": "markdown",
   "metadata": {},
   "source": [
    "### **Subscription prices**"
   ]
  },
  {
   "cell_type": "code",
   "execution_count": 12,
   "metadata": {},
   "outputs": [
    {
     "data": {
      "text/html": [
       "<div>\n",
       "<style scoped>\n",
       "    .dataframe tbody tr th:only-of-type {\n",
       "        vertical-align: middle;\n",
       "    }\n",
       "\n",
       "    .dataframe tbody tr th {\n",
       "        vertical-align: top;\n",
       "    }\n",
       "\n",
       "    .dataframe thead th {\n",
       "        text-align: right;\n",
       "    }\n",
       "</style>\n",
       "<table border=\"1\" class=\"dataframe\">\n",
       "  <thead>\n",
       "    <tr style=\"text-align: right;\">\n",
       "      <th></th>\n",
       "      <th>BASIC</th>\n",
       "      <th>PRO</th>\n",
       "      <th>MAX</th>\n",
       "    </tr>\n",
       "  </thead>\n",
       "  <tbody>\n",
       "    <tr>\n",
       "      <th>2020</th>\n",
       "      <td>33</td>\n",
       "      <td>65</td>\n",
       "      <td>99</td>\n",
       "    </tr>\n",
       "    <tr>\n",
       "      <th>2021</th>\n",
       "      <td>43</td>\n",
       "      <td>75</td>\n",
       "      <td>109</td>\n",
       "    </tr>\n",
       "    <tr>\n",
       "      <th>2022</th>\n",
       "      <td>53</td>\n",
       "      <td>85</td>\n",
       "      <td>119</td>\n",
       "    </tr>\n",
       "  </tbody>\n",
       "</table>\n",
       "</div>"
      ],
      "text/plain": [
       "      BASIC  PRO  MAX\n",
       "2020     33   65   99\n",
       "2021     43   75  109\n",
       "2022     53   85  119"
      ]
     },
     "execution_count": 12,
     "metadata": {},
     "output_type": "execute_result"
    }
   ],
   "source": [
    "subscription_prices = pd.read_json('data/subscription_prices.json')\n",
    "subscription_prices"
   ]
  },
  {
   "attachments": {},
   "cell_type": "markdown",
   "metadata": {},
   "source": [
    "### **Create compiled CSV**"
   ]
  },
  {
   "cell_type": "code",
   "execution_count": 13,
   "metadata": {},
   "outputs": [],
   "source": [
    "# Transform subscription prices so that merge can be performed\n",
    "subscription_prices = subscription_prices.stack().reset_index()\n",
    "subscription_prices.columns = ['year', 'subscription_type', 'price']\n",
    "\n",
    "# Join demographics and referral dataframes on customer id\n",
    "demo_ref = pd.merge(demographics, referral, on=\"cust_id\")\n",
    "\n",
    "# Keep only the latest transaction for each customer, so that csv will contain the current status of each customer\n",
    "latest_transaction = transactions.sort_values(['cust_id', 'transaction_date']).drop_duplicates('cust_id', keep='last')\n",
    "\n",
    "# Join dataframe of demographics and referral dataframes with latest transaction on customer id\n",
    "# If you want to keep all transactions for each customer, replace 'latest_transactions' with 'transactions'\n",
    "trans_demo_ref = pd.merge(latest_transaction, demo_ref, on=\"cust_id\")\n",
    "trans_demo_ref['year'] = trans_demo_ref['transaction_date'].dt.year"
   ]
  },
  {
   "cell_type": "code",
   "execution_count": 14,
   "metadata": {},
   "outputs": [],
   "source": [
    "# Create final dataframe that contains subscription prices as well\n",
    "all_info = pd.merge(trans_demo_ref, subscription_prices, on=['subscription_type', 'year'], how='inner')\n",
    "\n",
    "# The year column can be dropped as it doesn't add any information\n",
    "all_info.drop('year', axis=1, inplace=True)\n",
    "all_info['cust_id'] = pd.to_numeric(all_info['cust_id'])\n",
    "\n",
    "# Sort values on customer id, resetting index\n",
    "all_info.sort_values('cust_id', inplace=True, ignore_index=True)\n",
    "\n",
    "# Write to csv file\n",
    "all_info.to_csv('compiled_data.csv')\n"
   ]
  }
 ],
 "metadata": {
  "kernelspec": {
   "display_name": "base",
   "language": "python",
   "name": "python3"
  },
  "language_info": {
   "codemirror_mode": {
    "name": "ipython",
    "version": 3
   },
   "file_extension": ".py",
   "mimetype": "text/x-python",
   "name": "python",
   "nbconvert_exporter": "python",
   "pygments_lexer": "ipython3",
   "version": "3.9.7"
  },
  "orig_nbformat": 4
 },
 "nbformat": 4,
 "nbformat_minor": 2
}
